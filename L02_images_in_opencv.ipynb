{
  "nbformat": 4,
  "nbformat_minor": 0,
  "metadata": {
    "colab": {
      "name": "L02-images in opencv.ipynb",
      "provenance": [],
      "authorship_tag": "ABX9TyNI2tVAWK6Zbyd7l3Lq8LP2",
      "include_colab_link": true
    },
    "kernelspec": {
      "name": "python3",
      "display_name": "Python 3"
    },
    "language_info": {
      "name": "python"
    }
  },
  "cells": [
    {
      "cell_type": "markdown",
      "metadata": {
        "id": "view-in-github",
        "colab_type": "text"
      },
      "source": [
        "<a href=\"https://colab.research.google.com/github/amornvitz/Digital-Image-Processing/blob/main/L02_images_in_opencv.ipynb\" target=\"_parent\"><img src=\"https://colab.research.google.com/assets/colab-badge.svg\" alt=\"Open In Colab\"/></a>"
      ]
    },
    {
      "cell_type": "code",
      "metadata": {
        "id": "4gTtSKbPzeGx"
      },
      "source": [
        "# installation of opencv python\n",
        "# pip install opencv-python\n",
        "import cv2\n",
        "\n",
        "# import Mat library to store dara structure of images - Grayscale, Floating-point, True-color(BGR)\n",
        "import numpy as np\n",
        "\n",
        "# imread() is used ot load image from a file to Mat.\n",
        "# cv2.imread(filename[,flags]) -> retval\n",
        "image = cv2.imread(\"\")"
      ],
      "execution_count": 4,
      "outputs": []
    },
    {
      "cell_type": "code",
      "metadata": {
        "id": "rMjtydAY1Kv8"
      },
      "source": [
        "from google.colab import drive\n",
        "drive.mount('/content/drive')"
      ],
      "execution_count": null,
      "outputs": []
    },
    {
      "cell_type": "code",
      "metadata": {
        "id": "Ag35L7E20gyL"
      },
      "source": [
        ""
      ],
      "execution_count": null,
      "outputs": []
    }
  ]
}